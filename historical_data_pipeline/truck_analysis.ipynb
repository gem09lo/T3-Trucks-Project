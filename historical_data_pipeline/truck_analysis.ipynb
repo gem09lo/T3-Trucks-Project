{
 "cells": [
  {
   "cell_type": "markdown",
   "id": "69457c78",
   "metadata": {},
   "source": [
    "## Imports"
   ]
  },
  {
   "cell_type": "code",
   "execution_count": 1,
   "id": "91ca9db7-1f8b-4fc2-b4d6-a257f74e1c37",
   "metadata": {},
   "outputs": [],
   "source": [
    "import pandas as pd\n",
    "import altair as alt"
   ]
  },
  {
   "cell_type": "markdown",
   "id": "66ed3e74",
   "metadata": {},
   "source": [
    "## Read File"
   ]
  },
  {
   "cell_type": "code",
   "execution_count": 2,
   "id": "e77558f3",
   "metadata": {},
   "outputs": [
    {
     "data": {
      "text/html": [
       "<div>\n",
       "<style scoped>\n",
       "    .dataframe tbody tr th:only-of-type {\n",
       "        vertical-align: middle;\n",
       "    }\n",
       "\n",
       "    .dataframe tbody tr th {\n",
       "        vertical-align: top;\n",
       "    }\n",
       "\n",
       "    .dataframe thead th {\n",
       "        text-align: right;\n",
       "    }\n",
       "</style>\n",
       "<table border=\"1\" class=\"dataframe\">\n",
       "  <thead>\n",
       "    <tr style=\"text-align: right;\">\n",
       "      <th></th>\n",
       "      <th>timestamp</th>\n",
       "      <th>type</th>\n",
       "      <th>total</th>\n",
       "      <th>truck_id</th>\n",
       "    </tr>\n",
       "  </thead>\n",
       "  <tbody>\n",
       "    <tr>\n",
       "      <th>0</th>\n",
       "      <td>2024-10-20 09:17:00</td>\n",
       "      <td>1</td>\n",
       "      <td>9.8</td>\n",
       "      <td>1</td>\n",
       "    </tr>\n",
       "    <tr>\n",
       "      <th>1</th>\n",
       "      <td>2024-10-20 09:26:00</td>\n",
       "      <td>1</td>\n",
       "      <td>7.0</td>\n",
       "      <td>1</td>\n",
       "    </tr>\n",
       "    <tr>\n",
       "      <th>2</th>\n",
       "      <td>2024-10-20 09:34:00</td>\n",
       "      <td>1</td>\n",
       "      <td>7.0</td>\n",
       "      <td>1</td>\n",
       "    </tr>\n",
       "    <tr>\n",
       "      <th>3</th>\n",
       "      <td>2024-10-20 09:41:00</td>\n",
       "      <td>1</td>\n",
       "      <td>7.0</td>\n",
       "      <td>1</td>\n",
       "    </tr>\n",
       "    <tr>\n",
       "      <th>4</th>\n",
       "      <td>2024-10-20 09:57:00</td>\n",
       "      <td>1</td>\n",
       "      <td>7.0</td>\n",
       "      <td>1</td>\n",
       "    </tr>\n",
       "  </tbody>\n",
       "</table>\n",
       "</div>"
      ],
      "text/plain": [
       "             timestamp  type  total  truck_id\n",
       "0  2024-10-20 09:17:00     1    9.8         1\n",
       "1  2024-10-20 09:26:00     1    7.0         1\n",
       "2  2024-10-20 09:34:00     1    7.0         1\n",
       "3  2024-10-20 09:41:00     1    7.0         1\n",
       "4  2024-10-20 09:57:00     1    7.0         1"
      ]
     },
     "execution_count": 2,
     "metadata": {},
     "output_type": "execute_result"
    }
   ],
   "source": [
    "cleaned_data = pd.read_csv('cleaned_truck_data.csv')\n",
    "\n",
    "cleaned_data.head()"
   ]
  },
  {
   "cell_type": "code",
   "execution_count": null,
   "id": "9e538fbf",
   "metadata": {},
   "outputs": [],
   "source": []
  },
  {
   "cell_type": "markdown",
   "id": "e6ad977f",
   "metadata": {},
   "source": [
    "## Analysis"
   ]
  },
  {
   "cell_type": "markdown",
   "id": "f45fb609",
   "metadata": {},
   "source": [
    "Which truck has the highest number of transactions?"
   ]
  },
  {
   "cell_type": "code",
   "execution_count": 3,
   "id": "e368a2af",
   "metadata": {},
   "outputs": [
    {
     "data": {
      "text/plain": [
       "truck_id\n",
       "3    1866\n",
       "Name: count, dtype: int64"
      ]
     },
     "execution_count": 3,
     "metadata": {},
     "output_type": "execute_result"
    }
   ],
   "source": [
    "highest_transactions = cleaned_data[\"truck_id\"].value_counts().sort_values(ascending=False).head(1)\n",
    "\n",
    "highest_transactions"
   ]
  },
  {
   "cell_type": "markdown",
   "id": "1927e12c",
   "metadata": {},
   "source": [
    "Which truck has the lowest total transaction value?"
   ]
  },
  {
   "cell_type": "code",
   "execution_count": 4,
   "id": "af71b837",
   "metadata": {},
   "outputs": [
    {
     "data": {
      "text/plain": [
       "truck_id\n",
       "4    802.08\n",
       "Name: total, dtype: float64"
      ]
     },
     "execution_count": 4,
     "metadata": {},
     "output_type": "execute_result"
    }
   ],
   "source": [
    "lowest_transaction_value = cleaned_data.groupby(\"truck_id\")[\"total\"].sum().sort_values(ascending=True).head(1)\n",
    "\n",
    "lowest_transaction_value"
   ]
  },
  {
   "cell_type": "markdown",
   "id": "a0129d9e",
   "metadata": {},
   "source": [
    "What is the average transaction value?"
   ]
  },
  {
   "cell_type": "code",
   "execution_count": 5,
   "id": "43ad2fab",
   "metadata": {},
   "outputs": [
    {
     "data": {
      "text/plain": [
       "np.float64(6.514305900621118)"
      ]
     },
     "execution_count": 5,
     "metadata": {},
     "output_type": "execute_result"
    }
   ],
   "source": [
    "average_transactional_value = cleaned_data[\"total\"].mean()\n",
    "\n",
    "average_transactional_value"
   ]
  },
  {
   "cell_type": "markdown",
   "id": "3391f75f",
   "metadata": {},
   "source": [
    "What is the average transaction value for each truck?"
   ]
  },
  {
   "cell_type": "code",
   "execution_count": 6,
   "id": "12b98f24",
   "metadata": {},
   "outputs": [
    {
     "data": {
      "text/plain": [
       "truck_id\n",
       "1    7.769405\n",
       "2    8.053107\n",
       "3    6.044662\n",
       "4    2.746849\n",
       "5    5.488737\n",
       "6    5.875043\n",
       "Name: total, dtype: float64"
      ]
     },
     "execution_count": 6,
     "metadata": {},
     "output_type": "execute_result"
    }
   ],
   "source": [
    "average = cleaned_data.groupby(\"truck_id\")[\"total\"].mean()\n",
    "\n",
    "average"
   ]
  },
  {
   "cell_type": "markdown",
   "id": "9368f1d3",
   "metadata": {},
   "source": [
    "What proportion of transactions use cash?"
   ]
  },
  {
   "cell_type": "code",
   "execution_count": 7,
   "id": "b67305af",
   "metadata": {},
   "outputs": [
    {
     "name": "stdout",
     "output_type": "stream",
     "text": [
      "51.3664596273292%\n"
     ]
    }
   ],
   "source": [
    "total_transactions = len(cleaned_data[\"type\"])\n",
    "cash_transactions = len(cleaned_data[cleaned_data[\"type\"] == 2])\n",
    "proportion_cash = (cash_transactions/total_transactions)* 100\n",
    "\n",
    "print(f\"{proportion_cash}%\")"
   ]
  },
  {
   "cell_type": "markdown",
   "id": "26035200",
   "metadata": {},
   "source": [
    "## Visualisations"
   ]
  },
  {
   "cell_type": "markdown",
   "id": "9aa44edf",
   "metadata": {},
   "source": [
    "A bar chart showing average transaction total for each truck"
   ]
  },
  {
   "cell_type": "markdown",
   "id": "272dbf45",
   "metadata": {},
   "source": []
  },
  {
   "cell_type": "code",
   "execution_count": 8,
   "id": "74169790",
   "metadata": {},
   "outputs": [
    {
     "data": {
      "text/html": [
       "\n",
       "<style>\n",
       "  #altair-viz-cd41bec734e04e34ab33a3ecdf097ee7.vega-embed {\n",
       "    width: 100%;\n",
       "    display: flex;\n",
       "  }\n",
       "\n",
       "  #altair-viz-cd41bec734e04e34ab33a3ecdf097ee7.vega-embed details,\n",
       "  #altair-viz-cd41bec734e04e34ab33a3ecdf097ee7.vega-embed details summary {\n",
       "    position: relative;\n",
       "  }\n",
       "</style>\n",
       "<div id=\"altair-viz-cd41bec734e04e34ab33a3ecdf097ee7\"></div>\n",
       "<script type=\"text/javascript\">\n",
       "  var VEGA_DEBUG = (typeof VEGA_DEBUG == \"undefined\") ? {} : VEGA_DEBUG;\n",
       "  (function(spec, embedOpt){\n",
       "    let outputDiv = document.currentScript.previousElementSibling;\n",
       "    if (outputDiv.id !== \"altair-viz-cd41bec734e04e34ab33a3ecdf097ee7\") {\n",
       "      outputDiv = document.getElementById(\"altair-viz-cd41bec734e04e34ab33a3ecdf097ee7\");\n",
       "    }\n",
       "    const paths = {\n",
       "      \"vega\": \"https://cdn.jsdelivr.net/npm/vega@5?noext\",\n",
       "      \"vega-lib\": \"https://cdn.jsdelivr.net/npm/vega-lib?noext\",\n",
       "      \"vega-lite\": \"https://cdn.jsdelivr.net/npm/vega-lite@5.20.1?noext\",\n",
       "      \"vega-embed\": \"https://cdn.jsdelivr.net/npm/vega-embed@6?noext\",\n",
       "    };\n",
       "\n",
       "    function maybeLoadScript(lib, version) {\n",
       "      var key = `${lib.replace(\"-\", \"\")}_version`;\n",
       "      return (VEGA_DEBUG[key] == version) ?\n",
       "        Promise.resolve(paths[lib]) :\n",
       "        new Promise(function(resolve, reject) {\n",
       "          var s = document.createElement('script');\n",
       "          document.getElementsByTagName(\"head\")[0].appendChild(s);\n",
       "          s.async = true;\n",
       "          s.onload = () => {\n",
       "            VEGA_DEBUG[key] = version;\n",
       "            return resolve(paths[lib]);\n",
       "          };\n",
       "          s.onerror = () => reject(`Error loading script: ${paths[lib]}`);\n",
       "          s.src = paths[lib];\n",
       "        });\n",
       "    }\n",
       "\n",
       "    function showError(err) {\n",
       "      outputDiv.innerHTML = `<div class=\"error\" style=\"color:red;\">${err}</div>`;\n",
       "      throw err;\n",
       "    }\n",
       "\n",
       "    function displayChart(vegaEmbed) {\n",
       "      vegaEmbed(outputDiv, spec, embedOpt)\n",
       "        .catch(err => showError(`Javascript Error: ${err.message}<br>This usually means there's a typo in your chart specification. See the javascript console for the full traceback.`));\n",
       "    }\n",
       "\n",
       "    if(typeof define === \"function\" && define.amd) {\n",
       "      requirejs.config({paths});\n",
       "      require([\"vega-embed\"], displayChart, err => showError(`Error loading script: ${err.message}`));\n",
       "    } else {\n",
       "      maybeLoadScript(\"vega\", \"5\")\n",
       "        .then(() => maybeLoadScript(\"vega-lite\", \"5.20.1\"))\n",
       "        .then(() => maybeLoadScript(\"vega-embed\", \"6\"))\n",
       "        .catch(showError)\n",
       "        .then(() => displayChart(vegaEmbed));\n",
       "    }\n",
       "  })({\"config\": {\"view\": {\"continuousWidth\": 300, \"continuousHeight\": 300}}, \"data\": {\"name\": \"data-20d1f18d6f0b2d11044ee59ae8d99647\"}, \"mark\": {\"type\": \"bar\"}, \"encoding\": {\"color\": {\"field\": \"truck_id\", \"type\": \"nominal\"}, \"x\": {\"field\": \"truck_id\", \"title\": \"Truck ID\", \"type\": \"ordinal\"}, \"y\": {\"field\": \"average_transaction\", \"title\": \"Average Transaction Total\", \"type\": \"quantitative\"}}, \"title\": \"Average Transaction Total for Each Truck\", \"$schema\": \"https://vega.github.io/schema/vega-lite/v5.20.1.json\", \"datasets\": {\"data-20d1f18d6f0b2d11044ee59ae8d99647\": [{\"truck_id\": 1, \"average_transaction\": 7.769404517453799}, {\"truck_id\": 2, \"average_transaction\": 8.053107344632767}, {\"truck_id\": 3, \"average_transaction\": 6.044662379421222}, {\"truck_id\": 4, \"average_transaction\": 2.746849315068493}, {\"truck_id\": 5, \"average_transaction\": 5.488736842105263}, {\"truck_id\": 6, \"average_transaction\": 5.87504326328801}]}}, {\"mode\": \"vega-lite\"});\n",
       "</script>"
      ],
      "text/plain": [
       "alt.Chart(...)"
      ]
     },
     "execution_count": 8,
     "metadata": {},
     "output_type": "execute_result"
    }
   ],
   "source": [
    "# avg_transaction = cleaned_data[[\"truck_id\", \"total\"]].groupby(\"truck_id\")[\n",
    "#     \"total\"].mean().reset_index()\n",
    "# avg_transaction\n",
    "\n",
    "# # [[\"truck_id\", \"total\"]]\n",
    "\n",
    "# alt.Chart(cleaned_data).mark_bar().encode(\n",
    "#     x=\"truck_id\",\n",
    "#     y=\"total\",\n",
    "#     color=\"truck_id\"\n",
    "# ).properties(title=\"Average Transaction Total for Each Truck\")\n",
    "\n",
    "average_transaction_per_truck = cleaned_data.groupby(\n",
    "    \"truck_id\")[\"total\"].mean().reset_index()\n",
    "\n",
    "average_transaction_per_truck.columns = [\"truck_id\", \"average_transaction\"]\n",
    "\n",
    "chart = alt.Chart(average_transaction_per_truck).mark_bar().encode(\n",
    "    x=alt.X(\"truck_id:O\", title=\"Truck ID\"),\n",
    "    y=alt.Y(\"average_transaction:Q\", title=\"Average Transaction Total\"),\n",
    "    color=\"truck_id:N\"\n",
    ").properties(\n",
    "    title=\"Average Transaction Total for Each Truck\"\n",
    ")\n",
    "\n",
    "chart"
   ]
  },
  {
   "cell_type": "code",
   "execution_count": 9,
   "metadata": {},
   "outputs": [
    {
     "data": {
      "text/html": [
       "\n",
       "<style>\n",
       "  #altair-viz-9eb413295c8c4778a0354b6f3b3fc791.vega-embed {\n",
       "    width: 100%;\n",
       "    display: flex;\n",
       "  }\n",
       "\n",
       "  #altair-viz-9eb413295c8c4778a0354b6f3b3fc791.vega-embed details,\n",
       "  #altair-viz-9eb413295c8c4778a0354b6f3b3fc791.vega-embed details summary {\n",
       "    position: relative;\n",
       "  }\n",
       "</style>\n",
       "<div id=\"altair-viz-9eb413295c8c4778a0354b6f3b3fc791\"></div>\n",
       "<script type=\"text/javascript\">\n",
       "  var VEGA_DEBUG = (typeof VEGA_DEBUG == \"undefined\") ? {} : VEGA_DEBUG;\n",
       "  (function(spec, embedOpt){\n",
       "    let outputDiv = document.currentScript.previousElementSibling;\n",
       "    if (outputDiv.id !== \"altair-viz-9eb413295c8c4778a0354b6f3b3fc791\") {\n",
       "      outputDiv = document.getElementById(\"altair-viz-9eb413295c8c4778a0354b6f3b3fc791\");\n",
       "    }\n",
       "    const paths = {\n",
       "      \"vega\": \"https://cdn.jsdelivr.net/npm/vega@5?noext\",\n",
       "      \"vega-lib\": \"https://cdn.jsdelivr.net/npm/vega-lib?noext\",\n",
       "      \"vega-lite\": \"https://cdn.jsdelivr.net/npm/vega-lite@5.20.1?noext\",\n",
       "      \"vega-embed\": \"https://cdn.jsdelivr.net/npm/vega-embed@6?noext\",\n",
       "    };\n",
       "\n",
       "    function maybeLoadScript(lib, version) {\n",
       "      var key = `${lib.replace(\"-\", \"\")}_version`;\n",
       "      return (VEGA_DEBUG[key] == version) ?\n",
       "        Promise.resolve(paths[lib]) :\n",
       "        new Promise(function(resolve, reject) {\n",
       "          var s = document.createElement('script');\n",
       "          document.getElementsByTagName(\"head\")[0].appendChild(s);\n",
       "          s.async = true;\n",
       "          s.onload = () => {\n",
       "            VEGA_DEBUG[key] = version;\n",
       "            return resolve(paths[lib]);\n",
       "          };\n",
       "          s.onerror = () => reject(`Error loading script: ${paths[lib]}`);\n",
       "          s.src = paths[lib];\n",
       "        });\n",
       "    }\n",
       "\n",
       "    function showError(err) {\n",
       "      outputDiv.innerHTML = `<div class=\"error\" style=\"color:red;\">${err}</div>`;\n",
       "      throw err;\n",
       "    }\n",
       "\n",
       "    function displayChart(vegaEmbed) {\n",
       "      vegaEmbed(outputDiv, spec, embedOpt)\n",
       "        .catch(err => showError(`Javascript Error: ${err.message}<br>This usually means there's a typo in your chart specification. See the javascript console for the full traceback.`));\n",
       "    }\n",
       "\n",
       "    if(typeof define === \"function\" && define.amd) {\n",
       "      requirejs.config({paths});\n",
       "      require([\"vega-embed\"], displayChart, err => showError(`Error loading script: ${err.message}`));\n",
       "    } else {\n",
       "      maybeLoadScript(\"vega\", \"5\")\n",
       "        .then(() => maybeLoadScript(\"vega-lite\", \"5.20.1\"))\n",
       "        .then(() => maybeLoadScript(\"vega-embed\", \"6\"))\n",
       "        .catch(showError)\n",
       "        .then(() => displayChart(vegaEmbed));\n",
       "    }\n",
       "  })({\"config\": {\"view\": {\"continuousWidth\": 300, \"continuousHeight\": 300}}, \"data\": {\"name\": \"data-f55c1f9969c87650b6e7637723fc6326\"}, \"mark\": {\"type\": \"bar\"}, \"encoding\": {\"color\": {\"field\": \"truck_id\", \"type\": \"nominal\"}, \"x\": {\"field\": \"truck_id\", \"title\": \"Truck ID\", \"type\": \"ordinal\"}, \"y\": {\"field\": \"count_transaction\", \"title\": \"Number of Transactions\", \"type\": \"quantitative\"}}, \"title\": \"Number of Transactions for Each Truck\", \"$schema\": \"https://vega.github.io/schema/vega-lite/v5.20.1.json\", \"datasets\": {\"data-f55c1f9969c87650b6e7637723fc6326\": [{\"truck_id\": 1, \"count_transaction\": 1461}, {\"truck_id\": 2, \"count_transaction\": 1062}, {\"truck_id\": 3, \"count_transaction\": 1866}, {\"truck_id\": 4, \"count_transaction\": 292}, {\"truck_id\": 5, \"count_transaction\": 950}, {\"truck_id\": 6, \"count_transaction\": 809}]}}, {\"mode\": \"vega-lite\"});\n",
       "</script>"
      ],
      "text/plain": [
       "alt.Chart(...)"
      ]
     },
     "execution_count": 9,
     "metadata": {},
     "output_type": "execute_result"
    }
   ],
   "source": [
    "count_transaction_per_truck = cleaned_data.groupby(\n",
    "    \"truck_id\"\n",
    ")[\"total\"].count().reset_index()\n",
    "\n",
    "count_transaction_per_truck.columns = [\"truck_id\", \"count_transaction\"]\n",
    "\n",
    "chart = alt.Chart(count_transaction_per_truck).mark_bar().encode(\n",
    "    x=alt.X(\"truck_id:O\", title=\"Truck ID\"),\n",
    "    y=alt.Y(\"count_transaction:Q\", title=\"Number of Transactions\"),\n",
    "    color=\"truck_id:N\"\n",
    ").properties(\n",
    "    title=\"Number of Transactions for Each Truck\"\n",
    ")\n",
    "\n",
    "chart"
   ]
  },
  {
   "cell_type": "markdown",
   "id": "2716d74b",
   "metadata": {},
   "source": [
    "A pie chart showing the proportion of transactions made using cash or card"
   ]
  },
  {
   "cell_type": "code",
   "execution_count": 10,
   "id": "cc19f027",
   "metadata": {},
   "outputs": [
    {
     "data": {
      "text/html": [
       "\n",
       "<style>\n",
       "  #altair-viz-60beb2e12f164905b6095bbab3cfed0f.vega-embed {\n",
       "    width: 100%;\n",
       "    display: flex;\n",
       "  }\n",
       "\n",
       "  #altair-viz-60beb2e12f164905b6095bbab3cfed0f.vega-embed details,\n",
       "  #altair-viz-60beb2e12f164905b6095bbab3cfed0f.vega-embed details summary {\n",
       "    position: relative;\n",
       "  }\n",
       "</style>\n",
       "<div id=\"altair-viz-60beb2e12f164905b6095bbab3cfed0f\"></div>\n",
       "<script type=\"text/javascript\">\n",
       "  var VEGA_DEBUG = (typeof VEGA_DEBUG == \"undefined\") ? {} : VEGA_DEBUG;\n",
       "  (function(spec, embedOpt){\n",
       "    let outputDiv = document.currentScript.previousElementSibling;\n",
       "    if (outputDiv.id !== \"altair-viz-60beb2e12f164905b6095bbab3cfed0f\") {\n",
       "      outputDiv = document.getElementById(\"altair-viz-60beb2e12f164905b6095bbab3cfed0f\");\n",
       "    }\n",
       "    const paths = {\n",
       "      \"vega\": \"https://cdn.jsdelivr.net/npm/vega@5?noext\",\n",
       "      \"vega-lib\": \"https://cdn.jsdelivr.net/npm/vega-lib?noext\",\n",
       "      \"vega-lite\": \"https://cdn.jsdelivr.net/npm/vega-lite@5.20.1?noext\",\n",
       "      \"vega-embed\": \"https://cdn.jsdelivr.net/npm/vega-embed@6?noext\",\n",
       "    };\n",
       "\n",
       "    function maybeLoadScript(lib, version) {\n",
       "      var key = `${lib.replace(\"-\", \"\")}_version`;\n",
       "      return (VEGA_DEBUG[key] == version) ?\n",
       "        Promise.resolve(paths[lib]) :\n",
       "        new Promise(function(resolve, reject) {\n",
       "          var s = document.createElement('script');\n",
       "          document.getElementsByTagName(\"head\")[0].appendChild(s);\n",
       "          s.async = true;\n",
       "          s.onload = () => {\n",
       "            VEGA_DEBUG[key] = version;\n",
       "            return resolve(paths[lib]);\n",
       "          };\n",
       "          s.onerror = () => reject(`Error loading script: ${paths[lib]}`);\n",
       "          s.src = paths[lib];\n",
       "        });\n",
       "    }\n",
       "\n",
       "    function showError(err) {\n",
       "      outputDiv.innerHTML = `<div class=\"error\" style=\"color:red;\">${err}</div>`;\n",
       "      throw err;\n",
       "    }\n",
       "\n",
       "    function displayChart(vegaEmbed) {\n",
       "      vegaEmbed(outputDiv, spec, embedOpt)\n",
       "        .catch(err => showError(`Javascript Error: ${err.message}<br>This usually means there's a typo in your chart specification. See the javascript console for the full traceback.`));\n",
       "    }\n",
       "\n",
       "    if(typeof define === \"function\" && define.amd) {\n",
       "      requirejs.config({paths});\n",
       "      require([\"vega-embed\"], displayChart, err => showError(`Error loading script: ${err.message}`));\n",
       "    } else {\n",
       "      maybeLoadScript(\"vega\", \"5\")\n",
       "        .then(() => maybeLoadScript(\"vega-lite\", \"5.20.1\"))\n",
       "        .then(() => maybeLoadScript(\"vega-embed\", \"6\"))\n",
       "        .catch(showError)\n",
       "        .then(() => displayChart(vegaEmbed));\n",
       "    }\n",
       "  })({\"config\": {\"view\": {\"continuousWidth\": 300, \"continuousHeight\": 300}}, \"data\": {\"name\": \"data-6b258a2c26b35703af1f06036e625128\"}, \"mark\": {\"type\": \"arc\"}, \"encoding\": {\"color\": {\"field\": \"type\", \"type\": \"nominal\"}, \"theta\": {\"field\": \"count\", \"type\": \"quantitative\"}}, \"title\": \"Proportion of Transactions by Payment Method\", \"$schema\": \"https://vega.github.io/schema/vega-lite/v5.20.1.json\", \"datasets\": {\"data-6b258a2c26b35703af1f06036e625128\": [{\"type\": \"Card\", \"count\": 3132}, {\"type\": \"Cash\", \"count\": 3308}]}}, {\"mode\": \"vega-lite\"});\n",
       "</script>"
      ],
      "text/plain": [
       "alt.Chart(...)"
      ]
     },
     "execution_count": 10,
     "metadata": {},
     "output_type": "execute_result"
    }
   ],
   "source": [
    "cash_transactions = len(cleaned_data[cleaned_data[\"type\"] == 2])\n",
    "card_transactions = len(cleaned_data[cleaned_data[\"type\"] == 1])\n",
    "# total_types = cleaned_data[\"type\"].value_counts()\n",
    "# cash_transactions\n",
    "\n",
    "# Create a DataFrame with the counts of each type\n",
    "transaction_type_counts = pd.DataFrame({\n",
    "    'type': ['Card', 'Cash'],  # Label the types for clarity\n",
    "    'count': [card_transactions, cash_transactions]\n",
    "})\n",
    "\n",
    "# alt.Chart(total_types).mark_arc().encode(\n",
    "#     theta=\"type\"\n",
    "# )\n",
    "\n",
    "# Create the pie chart\n",
    "chart = alt.Chart(transaction_type_counts).mark_arc().encode(\n",
    "    # Use 'count' for angles\n",
    "    theta=alt.Theta('count:Q'),\n",
    "    color=alt.Color('type:N')         # Color by 'type'\n",
    ").properties(\n",
    "    title=\"Proportion of Transactions by Payment Method\"\n",
    ")\n",
    "\n",
    "chart"
   ]
  },
  {
   "cell_type": "code",
   "execution_count": null,
   "id": "60cc4dec",
   "metadata": {},
   "outputs": [],
   "source": []
  },
  {
   "cell_type": "markdown",
   "id": "2ba0262a",
   "metadata": {},
   "source": [
    "A line chart showing the total transaction value each day"
   ]
  }
 ],
 "metadata": {
  "kernelspec": {
   "display_name": ".venv",
   "language": "python",
   "name": "python3"
  },
  "language_info": {
   "codemirror_mode": {
    "name": "ipython",
    "version": 3
   },
   "file_extension": ".py",
   "mimetype": "text/x-python",
   "name": "python",
   "nbconvert_exporter": "python",
   "pygments_lexer": "ipython3",
   "version": "3.12.5"
  }
 },
 "nbformat": 4,
 "nbformat_minor": 5
}
